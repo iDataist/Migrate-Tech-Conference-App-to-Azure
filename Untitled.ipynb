{
 "cells": [
  {
   "cell_type": "code",
   "execution_count": 1,
   "id": "copyrighted-swift",
   "metadata": {},
   "outputs": [],
   "source": [
    "import psycopg2"
   ]
  },
  {
   "cell_type": "code",
   "execution_count": 2,
   "id": "alternative-muscle",
   "metadata": {},
   "outputs": [],
   "source": [
    "conn = psycopg2.connect(dbname=\"techconfdb\", \n",
    "                        user=\"dbadmin@sqlserver20210405\", \n",
    "                        password=\"p@ssword1234\", \n",
    "                        host=\"sqlserver20210405.postgres.database.azure.com\")\n",
    "cur = conn.cursor()"
   ]
  },
  {
   "cell_type": "code",
   "execution_count": 8,
   "id": "compliant-necessity",
   "metadata": {},
   "outputs": [
    {
     "ename": "AttributeError",
     "evalue": "'NoneType' object has no attribute 'fetchall'",
     "output_type": "error",
     "traceback": [
      "\u001b[0;31m---------------------------------------------------------------------------\u001b[0m",
      "\u001b[0;31mAttributeError\u001b[0m                            Traceback (most recent call last)",
      "\u001b[0;32m<ipython-input-8-3a54ee305dea>\u001b[0m in \u001b[0;36m<module>\u001b[0;34m\u001b[0m\n\u001b[0;32m----> 1\u001b[0;31m \u001b[0mcur\u001b[0m\u001b[0;34m.\u001b[0m\u001b[0mexecute\u001b[0m\u001b[0;34m(\u001b[0m\u001b[0;34m\"select * from attendee\"\u001b[0m\u001b[0;34m)\u001b[0m\u001b[0;34m.\u001b[0m\u001b[0mfetchall\u001b[0m\u001b[0;34m(\u001b[0m\u001b[0;34m)\u001b[0m\u001b[0;34m\u001b[0m\u001b[0;34m\u001b[0m\u001b[0m\n\u001b[0m",
      "\u001b[0;31mAttributeError\u001b[0m: 'NoneType' object has no attribute 'fetchall'"
     ]
    }
   ],
   "source": [
    "cur.execute(\"select * from attendee\")"
   ]
  },
  {
   "cell_type": "code",
   "execution_count": null,
   "id": "weird-contact",
   "metadata": {},
   "outputs": [],
   "source": [
    "notification_id = 4"
   ]
  },
  {
   "cell_type": "code",
   "execution_count": null,
   "id": "differential-component",
   "metadata": {},
   "outputs": [],
   "source": [
    "# Get notification message and subject from database using the notification_id\n",
    "subject = cur.execute(\"SELECT subject FROM notification\".format(notification_id))\n",
    "subject"
   ]
  },
  {
   "cell_type": "code",
   "execution_count": null,
   "id": "incorrect-scheduling",
   "metadata": {},
   "outputs": [],
   "source": []
  },
  {
   "cell_type": "code",
   "execution_count": null,
   "id": "respiratory-motel",
   "metadata": {},
   "outputs": [],
   "source": [
    "message = cur.execute(\"SELECT message FROM notification WHERE id=%(notification_id)\", {'notification_id': notification_id})"
   ]
  },
  {
   "cell_type": "code",
   "execution_count": null,
   "id": "comparable-military",
   "metadata": {},
   "outputs": [],
   "source": [
    "    # Get attendees email and name\n",
    "    attendees = cur.execute(\"SELECT email FROM attendee\").fetchall()\n",
    "    # Loop through each attendee and send an email with a personalized subject\n",
    "    num_attendee_notified = 0\n",
    "    for email, first_name in zip(emails, first_names):\n",
    "        mail = Mail(\n",
    "            from_email='hui.ren@idataist.com',\n",
    "            to_emails= email,\n",
    "            subject= subject,\n",
    "            content= f\"Hi {first_name}, /n {message}\"\n",
    "        try:\n",
    "            sg = SendGridAPIClient(os.environ.get('SendGridAPI'))\n",
    "            response = sg.send(mail)\n",
    "            print(response.status_code)\n",
    "            print(response.body)\n",
    "            print(response.headers)\n",
    "            if response.status_code == \"200\":\n",
    "                num_attendee_notified += 1\n",
    "        except Exception as e:\n",
    "            print(e.message)\n",
    "    # Update the notification table by setting the completed date and updating the status with the total number of attendees notified\n",
    "    cur.execute(\"UPDATE notification SET status = {}, completed_data = {} WHERE id = {}\".format(num_attendee_notified, date.today(), notification_id))\n",
    "except (Exception, psycopg2.DatabaseError) as error:\n",
    "    logging.error(error)\n",
    "finally:\n",
    "    # Close connection\n",
    "    cur.close()\n",
    "    conn.close()"
   ]
  }
 ],
 "metadata": {
  "kernelspec": {
   "display_name": "Python 3",
   "language": "python",
   "name": "python3"
  },
  "language_info": {
   "codemirror_mode": {
    "name": "ipython",
    "version": 3
   },
   "file_extension": ".py",
   "mimetype": "text/x-python",
   "name": "python",
   "nbconvert_exporter": "python",
   "pygments_lexer": "ipython3",
   "version": "3.8.6"
  }
 },
 "nbformat": 4,
 "nbformat_minor": 5
}
